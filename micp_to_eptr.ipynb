{
 "cells": [
  {
   "cell_type": "markdown",
   "metadata": {},
   "source": [
    "# Pore micorstructural and flow modelling of rocks.\n",
    "### Estimating effective pore-throat radius from MICP data."
   ]
  },
  {
   "cell_type": "markdown",
   "metadata": {
    "colab_type": "text",
    "id": "UEBilEjLj5wY"
   },
   "source": [
    "Lead Invsestigator: Olubukola Ishola (olubukola.ishola@okstate.edu)\\\n",
    "Co-Investigator: Javier Vilcaez\\\n",
    "Associated Paper: Augmenting Xray micro-CT data with MICP data for high resolution pore-microstructural and flow modelling of carbonate rocks.\\\n",
    "DOI:"
   ]
  },
  {
   "cell_type": "markdown",
   "metadata": {},
   "source": [
    "---------------------------------------------------------------------------------------------------------------------------\\\n",
    "The notebook shows the principle behind the minimum incremental pore volume (MIPV) and estimating the effective pore-throat radius (EPTR) as outlined in steps in the paper above.\\\n",
    "Please see the paper for more details."
   ]
  },
  {
   "cell_type": "markdown",
   "metadata": {
    "colab_type": "text",
    "id": "MkoGLH_Tj5wn",
    "tags": []
   },
   "source": [
    "### Importing Packages"
   ]
  },
  {
   "cell_type": "code",
   "execution_count": null,
   "metadata": {},
   "outputs": [],
   "source": [
    "import os\n",
    "import numpy as np\n",
    "import pandas as pd"
   ]
  },
  {
   "cell_type": "markdown",
   "metadata": {
    "tags": []
   },
   "source": [
    "### Step One"
   ]
  },
  {
   "cell_type": "markdown",
   "metadata": {},
   "source": [
    "Account for the ink bottle effect. The shadowing or ink-bottle phenomenon causes overestimation of smaller pores since incremental pressure in MICP acquisition tends to mask large volume hidden behind tight pores as tighter pores. For this study, we applied a cut off at the minimum incremental pore volume (MIPV). MIPV represents the pore size where the incremental porosity abruptly reduces close to zero before attaining 100% mercury saturation. While this approach tries to remove false data, it is noteworthy that it also ignores pores sizes less than MIPV cut off."
   ]
  },
  {
   "cell_type": "code",
   "execution_count": null,
   "metadata": {},
   "outputs": [],
   "source": [
    "def mipv_cut_off(micp_data, threshold=0.99, show_data=True):\n",
    "    \"\"\"\n",
    "    Apply the mipv cut-off to MICP data.\n",
    "\n",
    "    Parameters\n",
    "    ----------\n",
    "    micp_data : float, dataframe\n",
    "        Columns in the order : Pressure (psia)\tPore Radius (µm)\tIncremental Pore Volume (mL/g)\tCumulative Pore Volume (mL/g).\n",
    "    threshold : float, Optional\n",
    "        Threshold for applying mipv. Default is 0.99.\n",
    "    show_data : bolean, Optional\n",
    "        An option to show details of mipv cut-off point. Default is True.\n",
    "        \n",
    "    Returns\n",
    "    -------\n",
    "   micp_data : float, dataframe\n",
    "       micp_data input truncated at the mipv cut-off. Columns in the order : Pressure (psia)\tPore Radius (µm)\tIncremental Pore Volume (mL/g)\tCumulative Pore Volume (mL/g). \n",
    "\n",
    "    \"\"\"\n",
    "\n",
    "    len_ = len(micp_data) - 2\n",
    "    i = 0\n",
    "\n",
    "    while i <= len_:\n",
    "        curr = micp_data.iloc[i, 3] / micp_data.iloc[i + 1, 3]  # curr means current data point. The ratio of incremanetal pore volume at a given pressure to the next incremantal pore voulme\n",
    "\n",
    "        if curr > threshold and curr < 1:\n",
    "            after = micp_data.iloc[i + 1, 3] / micp_data.iloc[i + 2, 3]  # after means after current data point. The ratio of incremanetal pore volume at a given pressure to the next incremantal pore voulme\n",
    "\n",
    "            if curr > after:\n",
    "\n",
    "                if show_data:\n",
    "                    print(micp_data.iloc[i + 1])\n",
    "\n",
    "                return micp_data.iloc[:i + 2]\n",
    "\n",
    "        i += 1  # increase counter for while loop\n",
    "\n",
    "        if curr >= 1:\n",
    "            i += 1  # If curr is less than one, mercury injected into the rock is increasing as expected. However, if it is greater than one, it indicates an error in data or mechanical issue during acquisition. To prevent further contamination of eptr estimation, skip the next iteration.\n",
    "\n",
    "    return print(f'No cut-off found, lower threshold from {threshold}')"
   ]
  },
  {
   "cell_type": "markdown",
   "metadata": {},
   "source": [
    "### Step Two"
   ]
  },
  {
   "cell_type": "markdown",
   "metadata": {},
   "source": [
    "Estimate the weight ($w_i$) of each pore-throat size. In a previous work by Dastidar and others, the fraction of each incremental pore volume is used as weights."
   ]
  },
  {
   "cell_type": "markdown",
   "metadata": {},
   "source": [
    "$ w_i = \\frac{v_i}{\\sum_{i=1}^n v_i} \\tag{1}$"
   ]
  },
  {
   "cell_type": "markdown",
   "metadata": {},
   "source": [
    "Where $ n $ is the number of pore-throat size data point and  $ v_i $ is the incremental pore volume of a given pore-throat $ i $.\n",
    "\n",
    "Here, we used the ratio of the incremental pore volume to the curved surface area ($ s $) of an equivalent cylinder as weights."
   ]
  },
  {
   "cell_type": "markdown",
   "metadata": {},
   "source": [
    "$ w_i = \\frac{(v_i/s_i)}{\\sum_{i=1}^n(v_i/s_i)} $"
   ]
  },
  {
   "cell_type": "code",
   "execution_count": null,
   "metadata": {},
   "outputs": [],
   "source": [
    "def weights(incr_pore_vol, cur_surf_area_):\n",
    "    \"\"\"\n",
    "    Estimate the weights of each pore-throat radius.\n",
    "\n",
    "    Parameters\n",
    "    ----------\n",
    "    incr_pore_vol : float, 1D array\n",
    "        A column of increamental pore volume.\n",
    "    cur_surf_area_ : float, 1D array\n",
    "        A column of surface area.\n",
    "    \n",
    "    Returns\n",
    "    -------\n",
    "    weights_ : float, 1D array\n",
    "        Weights of the respective pore-throat size.\n",
    "\n",
    "    \"\"\"\n",
    "\n",
    "    v_to_s = incr_pore_vol / cur_surf_area_\n",
    "    sum_v_to_s = np.sum(v_to_s)\n",
    "    weights_ = v_to_s / sum_v_to_s\n",
    "\n",
    "    return weights_"
   ]
  },
  {
   "cell_type": "markdown",
   "metadata": {},
   "source": [
    "curved surface area ($ s $) is given by"
   ]
  },
  {
   "cell_type": "markdown",
   "metadata": {},
   "source": [
    "$ s_i=2πr_ih_i $"
   ]
  },
  {
   "cell_type": "markdown",
   "metadata": {},
   "source": [
    "Where $r_i$ is the radius of a given pore-throat $i$ and $h_i$ is corresponding the pore throat length. In this study we assumed $h_i$ to be constant, hence, $s_i$ is controlled by $r_i$ in Eq. (3).\n",
    "\n"
   ]
  },
  {
   "cell_type": "code",
   "execution_count": null,
   "metadata": {},
   "outputs": [],
   "source": [
    "def cur_surf_area(pore_throat_radius, pore_throat_length=1):\n",
    "    \"\"\"\n",
    "    Estimate the surface area of each pore-throat radius.\n",
    "\n",
    "    Parameters\n",
    "    ----------\n",
    "    pore_throat_radius : float, 1D array\n",
    "        A column of pore-throat radius.\n",
    "    pore_throat_length : float, 1D array\n",
    "        A column of pore_throat length.\n",
    "    \n",
    "    Returns\n",
    "    -------\n",
    "    cur_surf_area_ : float, 1D array\n",
    "        A column of surface area.\n",
    "\n",
    "    \"\"\"\n",
    "\n",
    "    cur_surf_area_ = 2 * 3.14 * pore_throat_radius * pore_throat_length\n",
    "\n",
    "    return cur_surf_area_"
   ]
  },
  {
   "cell_type": "markdown",
   "metadata": {},
   "source": [
    "The incremental pore volume ($v_i$) accounts for the fraction of total volume of fluid a pore throat ($i$) controls resulting in that pore throat size having more influence on flow through the rock sample. The curved surface area $s_i$ is introduced in this study to account for the impact of frictional interaction at the fluid-rock interface which negates flow through a pore-throat $i$. Curved surface area and not total surface area is used here because the pore throats are idealized as cylinders and the portion of the cylinder having the frictional interaction with the fluid flowing through is the curved surface since the idealized cylinder is expected to be hollow for fluid to pass through it. "
   ]
  },
  {
   "cell_type": "markdown",
   "metadata": {},
   "source": [
    "### Step Three"
   ]
  },
  {
   "cell_type": "markdown",
   "metadata": {},
   "source": [
    "Calculate the EPTR by using the estimated weights to compute a weighted average pore throat radius (Eq. 5)."
   ]
  },
  {
   "cell_type": "markdown",
   "metadata": {},
   "source": [
    "EPTR $= \\frac{\\sum_{i=1}^n(w_i×r_i)}{\\sum_{i=1}^n(w_i)} $"
   ]
  },
  {
   "cell_type": "code",
   "execution_count": null,
   "metadata": {},
   "outputs": [],
   "source": [
    "def eptr(weights_, pore_throat_radius):\n",
    "    \"\"\"\n",
    "    Estimate the eptr.\n",
    "\n",
    "    Parameters\n",
    "    ----------\n",
    "    weights_ : float, 1D array\n",
    "        Weights of the respective pore-throat size.\n",
    "    pore_throat_radius : float, 1D array\n",
    "        A column of pore-throat radius.\n",
    "    \n",
    "    Returns\n",
    "    -------\n",
    "    eptr : float\n",
    "        Equivalent pore-throat.\n",
    "\n",
    "    \"\"\"\n",
    "    eptr_ = np.sum(\n",
    "        weights_ * pore_throat_radius\n",
    "    )  # denominator is ignored becuase it mathematically equals 1.\n",
    "\n",
    "    return eptr_"
   ]
  },
  {
   "cell_type": "markdown",
   "metadata": {},
   "source": [
    "### Inputs"
   ]
  },
  {
   "cell_type": "code",
   "execution_count": null,
   "metadata": {},
   "outputs": [],
   "source": [
    "filename = 'micp_a.xlsx'\n",
    "file_path = r'../micp_data'"
   ]
  },
  {
   "cell_type": "markdown",
   "metadata": {},
   "source": [
    "### Load data"
   ]
  },
  {
   "cell_type": "code",
   "execution_count": null,
   "metadata": {},
   "outputs": [],
   "source": [
    "file = os.path.join(file_path, filename)\n",
    "df = pd.read_excel(file)\n",
    "df = mipv_cut_off(df)\n",
    "pore_throat_radius = df.iloc[:, 1]\n",
    "incr_pore_vol = df.iloc[:, 2]"
   ]
  },
  {
   "cell_type": "markdown",
   "metadata": {},
   "source": [
    "### Run Program"
   ]
  },
  {
   "cell_type": "code",
   "execution_count": null,
   "metadata": {},
   "outputs": [],
   "source": [
    "cur_surf_area_ = cur_surf_area(pore_throat_radius, pore_throat_length=1)\n",
    "weights_ = weights(incr_pore_vol, cur_surf_area_)\n",
    "eptr_ = eptr(weights_, pore_throat_radius)\n",
    "print(\n",
    "    f\"The equivalent pore_throat radius of the sample is {round(eptr_, 3)} microns.\"\n",
    ")"
   ]
  }
 ],
 "metadata": {
  "accelerator": "GPU",
  "colab": {
   "collapsed_sections": [],
   "default_view": {},
   "name": "convnet-vgg16.ipynb",
   "provenance": [],
   "version": "0.3.2",
   "views": {}
  },
  "kernelspec": {
   "display_name": "Python 3 (ipykernel)",
   "language": "python",
   "name": "python3"
  },
  "language_info": {
   "codemirror_mode": {
    "name": "ipython",
    "version": 3
   },
   "file_extension": ".py",
   "mimetype": "text/x-python",
   "name": "python",
   "nbconvert_exporter": "python",
   "pygments_lexer": "ipython3",
   "version": "3.8.16"
  },
  "toc": {
   "nav_menu": {},
   "number_sections": true,
   "sideBar": true,
   "skip_h1_title": false,
   "title_cell": "Table of Contents",
   "title_sidebar": "Contents",
   "toc_cell": true,
   "toc_position": {
    "height": "calc(100% - 180px)",
    "left": "10px",
    "top": "150px",
    "width": "371px"
   },
   "toc_section_display": true,
   "toc_window_display": true
  },
  "toc-autonumbering": false,
  "toc-showcode": false,
  "toc-showmarkdowntxt": true
 },
 "nbformat": 4,
 "nbformat_minor": 4
}
